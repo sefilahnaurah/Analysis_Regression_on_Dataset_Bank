{
 "cells": [
  {
   "cell_type": "markdown",
   "id": "bb79c708-57aa-47eb-90ab-2ae4a979d8bb",
   "metadata": {
    "tags": []
   },
   "source": [
    "**Kelompok Teh Pucuk**\n",
    "1. Tiara Valentina (23083010091)\n",
    "2. Sefilah Naurah  (23083010105) "
   ]
  },
  {
   "cell_type": "markdown",
   "id": "5e43453a-0dda-45cf-9f02-b53f52c4ab8d",
   "metadata": {},
   "source": [
    "**Regression Analysis on Bank Dataset**"
   ]
  },
  {
   "cell_type": "markdown",
   "id": "293c2c5e-cd9f-4657-b14d-7ad253edf817",
   "metadata": {},
   "source": [
    "**Membaca Data**"
   ]
  },
  {
   "cell_type": "code",
   "execution_count": 18,
   "id": "1dc329d5-8201-4d27-b03d-6d0813bc207d",
   "metadata": {
    "tags": []
   },
   "outputs": [
    {
     "data": {
      "text/html": [
       "<div>\n",
       "<style scoped>\n",
       "    .dataframe tbody tr th:only-of-type {\n",
       "        vertical-align: middle;\n",
       "    }\n",
       "\n",
       "    .dataframe tbody tr th {\n",
       "        vertical-align: top;\n",
       "    }\n",
       "\n",
       "    .dataframe thead th {\n",
       "        text-align: right;\n",
       "    }\n",
       "</style>\n",
       "<table border=\"1\" class=\"dataframe\">\n",
       "  <thead>\n",
       "    <tr style=\"text-align: right;\">\n",
       "      <th></th>\n",
       "      <th>age</th>\n",
       "      <th>job</th>\n",
       "      <th>marital</th>\n",
       "      <th>education</th>\n",
       "      <th>default</th>\n",
       "      <th>balance</th>\n",
       "      <th>housing</th>\n",
       "      <th>loan</th>\n",
       "      <th>contact</th>\n",
       "      <th>day</th>\n",
       "      <th>month</th>\n",
       "      <th>duration</th>\n",
       "      <th>campaign</th>\n",
       "      <th>pdays</th>\n",
       "      <th>previous</th>\n",
       "      <th>poutcome</th>\n",
       "      <th>y</th>\n",
       "    </tr>\n",
       "  </thead>\n",
       "  <tbody>\n",
       "    <tr>\n",
       "      <th>0</th>\n",
       "      <td>30</td>\n",
       "      <td>unemployed</td>\n",
       "      <td>married</td>\n",
       "      <td>primary</td>\n",
       "      <td>no</td>\n",
       "      <td>1787</td>\n",
       "      <td>no</td>\n",
       "      <td>no</td>\n",
       "      <td>cellular</td>\n",
       "      <td>19</td>\n",
       "      <td>oct</td>\n",
       "      <td>79</td>\n",
       "      <td>1</td>\n",
       "      <td>-1</td>\n",
       "      <td>0</td>\n",
       "      <td>unknown</td>\n",
       "      <td>no</td>\n",
       "    </tr>\n",
       "    <tr>\n",
       "      <th>1</th>\n",
       "      <td>33</td>\n",
       "      <td>services</td>\n",
       "      <td>married</td>\n",
       "      <td>secondary</td>\n",
       "      <td>no</td>\n",
       "      <td>4789</td>\n",
       "      <td>yes</td>\n",
       "      <td>yes</td>\n",
       "      <td>cellular</td>\n",
       "      <td>11</td>\n",
       "      <td>may</td>\n",
       "      <td>220</td>\n",
       "      <td>1</td>\n",
       "      <td>339</td>\n",
       "      <td>4</td>\n",
       "      <td>failure</td>\n",
       "      <td>no</td>\n",
       "    </tr>\n",
       "    <tr>\n",
       "      <th>2</th>\n",
       "      <td>35</td>\n",
       "      <td>management</td>\n",
       "      <td>single</td>\n",
       "      <td>tertiary</td>\n",
       "      <td>no</td>\n",
       "      <td>1350</td>\n",
       "      <td>yes</td>\n",
       "      <td>no</td>\n",
       "      <td>cellular</td>\n",
       "      <td>16</td>\n",
       "      <td>apr</td>\n",
       "      <td>185</td>\n",
       "      <td>1</td>\n",
       "      <td>330</td>\n",
       "      <td>1</td>\n",
       "      <td>failure</td>\n",
       "      <td>no</td>\n",
       "    </tr>\n",
       "    <tr>\n",
       "      <th>3</th>\n",
       "      <td>30</td>\n",
       "      <td>management</td>\n",
       "      <td>married</td>\n",
       "      <td>tertiary</td>\n",
       "      <td>no</td>\n",
       "      <td>1476</td>\n",
       "      <td>yes</td>\n",
       "      <td>yes</td>\n",
       "      <td>unknown</td>\n",
       "      <td>3</td>\n",
       "      <td>jun</td>\n",
       "      <td>199</td>\n",
       "      <td>4</td>\n",
       "      <td>-1</td>\n",
       "      <td>0</td>\n",
       "      <td>unknown</td>\n",
       "      <td>no</td>\n",
       "    </tr>\n",
       "    <tr>\n",
       "      <th>4</th>\n",
       "      <td>59</td>\n",
       "      <td>blue-collar</td>\n",
       "      <td>married</td>\n",
       "      <td>secondary</td>\n",
       "      <td>no</td>\n",
       "      <td>0</td>\n",
       "      <td>yes</td>\n",
       "      <td>no</td>\n",
       "      <td>unknown</td>\n",
       "      <td>5</td>\n",
       "      <td>may</td>\n",
       "      <td>226</td>\n",
       "      <td>1</td>\n",
       "      <td>-1</td>\n",
       "      <td>0</td>\n",
       "      <td>unknown</td>\n",
       "      <td>no</td>\n",
       "    </tr>\n",
       "    <tr>\n",
       "      <th>...</th>\n",
       "      <td>...</td>\n",
       "      <td>...</td>\n",
       "      <td>...</td>\n",
       "      <td>...</td>\n",
       "      <td>...</td>\n",
       "      <td>...</td>\n",
       "      <td>...</td>\n",
       "      <td>...</td>\n",
       "      <td>...</td>\n",
       "      <td>...</td>\n",
       "      <td>...</td>\n",
       "      <td>...</td>\n",
       "      <td>...</td>\n",
       "      <td>...</td>\n",
       "      <td>...</td>\n",
       "      <td>...</td>\n",
       "      <td>...</td>\n",
       "    </tr>\n",
       "    <tr>\n",
       "      <th>4516</th>\n",
       "      <td>33</td>\n",
       "      <td>services</td>\n",
       "      <td>married</td>\n",
       "      <td>secondary</td>\n",
       "      <td>no</td>\n",
       "      <td>-333</td>\n",
       "      <td>yes</td>\n",
       "      <td>no</td>\n",
       "      <td>cellular</td>\n",
       "      <td>30</td>\n",
       "      <td>jul</td>\n",
       "      <td>329</td>\n",
       "      <td>5</td>\n",
       "      <td>-1</td>\n",
       "      <td>0</td>\n",
       "      <td>unknown</td>\n",
       "      <td>no</td>\n",
       "    </tr>\n",
       "    <tr>\n",
       "      <th>4517</th>\n",
       "      <td>57</td>\n",
       "      <td>self-employed</td>\n",
       "      <td>married</td>\n",
       "      <td>tertiary</td>\n",
       "      <td>yes</td>\n",
       "      <td>-3313</td>\n",
       "      <td>yes</td>\n",
       "      <td>yes</td>\n",
       "      <td>unknown</td>\n",
       "      <td>9</td>\n",
       "      <td>may</td>\n",
       "      <td>153</td>\n",
       "      <td>1</td>\n",
       "      <td>-1</td>\n",
       "      <td>0</td>\n",
       "      <td>unknown</td>\n",
       "      <td>no</td>\n",
       "    </tr>\n",
       "    <tr>\n",
       "      <th>4518</th>\n",
       "      <td>57</td>\n",
       "      <td>technician</td>\n",
       "      <td>married</td>\n",
       "      <td>secondary</td>\n",
       "      <td>no</td>\n",
       "      <td>295</td>\n",
       "      <td>no</td>\n",
       "      <td>no</td>\n",
       "      <td>cellular</td>\n",
       "      <td>19</td>\n",
       "      <td>aug</td>\n",
       "      <td>151</td>\n",
       "      <td>11</td>\n",
       "      <td>-1</td>\n",
       "      <td>0</td>\n",
       "      <td>unknown</td>\n",
       "      <td>no</td>\n",
       "    </tr>\n",
       "    <tr>\n",
       "      <th>4519</th>\n",
       "      <td>28</td>\n",
       "      <td>blue-collar</td>\n",
       "      <td>married</td>\n",
       "      <td>secondary</td>\n",
       "      <td>no</td>\n",
       "      <td>1137</td>\n",
       "      <td>no</td>\n",
       "      <td>no</td>\n",
       "      <td>cellular</td>\n",
       "      <td>6</td>\n",
       "      <td>feb</td>\n",
       "      <td>129</td>\n",
       "      <td>4</td>\n",
       "      <td>211</td>\n",
       "      <td>3</td>\n",
       "      <td>other</td>\n",
       "      <td>no</td>\n",
       "    </tr>\n",
       "    <tr>\n",
       "      <th>4520</th>\n",
       "      <td>44</td>\n",
       "      <td>entrepreneur</td>\n",
       "      <td>single</td>\n",
       "      <td>tertiary</td>\n",
       "      <td>no</td>\n",
       "      <td>1136</td>\n",
       "      <td>yes</td>\n",
       "      <td>yes</td>\n",
       "      <td>cellular</td>\n",
       "      <td>3</td>\n",
       "      <td>apr</td>\n",
       "      <td>345</td>\n",
       "      <td>2</td>\n",
       "      <td>249</td>\n",
       "      <td>7</td>\n",
       "      <td>other</td>\n",
       "      <td>no</td>\n",
       "    </tr>\n",
       "  </tbody>\n",
       "</table>\n",
       "<p>4521 rows × 17 columns</p>\n",
       "</div>"
      ],
      "text/plain": [
       "      age            job  marital  education default  balance housing loan  \\\n",
       "0      30     unemployed  married    primary      no     1787      no   no   \n",
       "1      33       services  married  secondary      no     4789     yes  yes   \n",
       "2      35     management   single   tertiary      no     1350     yes   no   \n",
       "3      30     management  married   tertiary      no     1476     yes  yes   \n",
       "4      59    blue-collar  married  secondary      no        0     yes   no   \n",
       "...   ...            ...      ...        ...     ...      ...     ...  ...   \n",
       "4516   33       services  married  secondary      no     -333     yes   no   \n",
       "4517   57  self-employed  married   tertiary     yes    -3313     yes  yes   \n",
       "4518   57     technician  married  secondary      no      295      no   no   \n",
       "4519   28    blue-collar  married  secondary      no     1137      no   no   \n",
       "4520   44   entrepreneur   single   tertiary      no     1136     yes  yes   \n",
       "\n",
       "       contact  day month  duration  campaign  pdays  previous poutcome   y  \n",
       "0     cellular   19   oct        79         1     -1         0  unknown  no  \n",
       "1     cellular   11   may       220         1    339         4  failure  no  \n",
       "2     cellular   16   apr       185         1    330         1  failure  no  \n",
       "3      unknown    3   jun       199         4     -1         0  unknown  no  \n",
       "4      unknown    5   may       226         1     -1         0  unknown  no  \n",
       "...        ...  ...   ...       ...       ...    ...       ...      ...  ..  \n",
       "4516  cellular   30   jul       329         5     -1         0  unknown  no  \n",
       "4517   unknown    9   may       153         1     -1         0  unknown  no  \n",
       "4518  cellular   19   aug       151        11     -1         0  unknown  no  \n",
       "4519  cellular    6   feb       129         4    211         3    other  no  \n",
       "4520  cellular    3   apr       345         2    249         7    other  no  \n",
       "\n",
       "[4521 rows x 17 columns]"
      ]
     },
     "execution_count": 18,
     "metadata": {},
     "output_type": "execute_result"
    }
   ],
   "source": [
    "import pandas as pd\n",
    "data_raw = pd.read_csv(\"C:\\\\Users\\ASUS\\\\Downloads\\\\bank.csv\", sep=';')\n",
    "data_raw"
   ]
  },
  {
   "cell_type": "markdown",
   "id": "83d4570d-9022-4929-9a85-b733b21a9f5f",
   "metadata": {},
   "source": [
    "Kode: Dataset dibaca menggunakan pandas dan disimpan dalam variabel data_raw. File dataset berisi data pelanggan bank untuk analisis perilaku berlangganan deposito.\n",
    "Tujuan: Memuat dataset untuk dianalisis lebih lanjut.\n",
    "Hasil: Data mentah dimuat ke dalam DataFrame."
   ]
  },
  {
   "cell_type": "markdown",
   "id": "5d00e3e4-eebf-4b6f-add9-a43134bcc587",
   "metadata": {
    "tags": []
   },
   "source": [
    "**Mengonversi Tipe Data Numerik**"
   ]
  },
  {
   "cell_type": "code",
   "execution_count": 21,
   "id": "b566b36e-6def-482a-853c-ab2d7486f88c",
   "metadata": {
    "tags": []
   },
   "outputs": [
    {
     "name": "stdout",
     "output_type": "stream",
     "text": [
      "<class 'pandas.core.frame.DataFrame'>\n",
      "RangeIndex: 4521 entries, 0 to 4520\n",
      "Data columns (total 17 columns):\n",
      " #   Column     Non-Null Count  Dtype \n",
      "---  ------     --------------  ----- \n",
      " 0   age        4521 non-null   int64 \n",
      " 1   job        4521 non-null   object\n",
      " 2   marital    4521 non-null   object\n",
      " 3   education  4521 non-null   object\n",
      " 4   default    4521 non-null   object\n",
      " 5   balance    4521 non-null   int64 \n",
      " 6   housing    4521 non-null   object\n",
      " 7   loan       4521 non-null   object\n",
      " 8   contact    4521 non-null   object\n",
      " 9   day        4521 non-null   int64 \n",
      " 10  month      4521 non-null   object\n",
      " 11  duration   4521 non-null   int64 \n",
      " 12  campaign   4521 non-null   int64 \n",
      " 13  pdays      4521 non-null   int64 \n",
      " 14  previous   4521 non-null   int64 \n",
      " 15  poutcome   4521 non-null   object\n",
      " 16  y          4521 non-null   object\n",
      "dtypes: int64(7), object(10)\n",
      "memory usage: 600.6+ KB\n",
      "None\n"
     ]
    }
   ],
   "source": [
    "# Mengonversi kolom numerik ke tipe data yang sesuai\n",
    "numerical_columns = [\"age\", \"balance\", \"day\", \"duration\", \"campaign\", \"pdays\", \"previous\"]\n",
    "data_split[numerical_columns] = data_raw[numerical_columns].apply(pd.to_numeric, errors='coerce')\n",
    "\n",
    "# Menampilkan informasi tipe data\n",
    "print(data_raw.info())"
   ]
  },
  {
   "cell_type": "markdown",
   "id": "72ad0bdb-88ab-4ad7-86ce-2ea741f6032f",
   "metadata": {},
   "source": [
    "Konteks: Kolom numerik dipastikan memiliki tipe data numerik untuk mencegah error dalam analisis.\n",
    "Tujuan: Menormalkan tipe data dan menangani nilai tak valid (errors='coerce' mengganti nilai tidak valid menjadi NaN).\n",
    "Hasil: Semua kolom numerik terkonversi dengan benar."
   ]
  },
  {
   "cell_type": "markdown",
   "id": "d270d125-60b1-4312-9172-916127a561be",
   "metadata": {},
   "source": [
    "**Menangani Nilai yang Hilang (Missing Values)**"
   ]
  },
  {
   "cell_type": "code",
   "execution_count": 24,
   "id": "80af5adb-9569-456c-bc6c-705201c42027",
   "metadata": {
    "tags": []
   },
   "outputs": [
    {
     "name": "stdout",
     "output_type": "stream",
     "text": [
      "age          0\n",
      "job          0\n",
      "marital      0\n",
      "education    0\n",
      "default      0\n",
      "balance      0\n",
      "housing      0\n",
      "loan         0\n",
      "contact      0\n",
      "day          0\n",
      "month        0\n",
      "duration     0\n",
      "campaign     0\n",
      "pdays        0\n",
      "previous     0\n",
      "poutcome     0\n",
      "y            0\n",
      "dtype: int64\n",
      "<class 'pandas.core.frame.DataFrame'>\n",
      "RangeIndex: 4521 entries, 0 to 4520\n",
      "Data columns (total 17 columns):\n",
      " #   Column     Non-Null Count  Dtype \n",
      "---  ------     --------------  ----- \n",
      " 0   age        4521 non-null   int64 \n",
      " 1   job        4521 non-null   object\n",
      " 2   marital    4521 non-null   object\n",
      " 3   education  4521 non-null   object\n",
      " 4   default    4521 non-null   object\n",
      " 5   balance    4521 non-null   int64 \n",
      " 6   housing    4521 non-null   object\n",
      " 7   loan       4521 non-null   object\n",
      " 8   contact    4521 non-null   object\n",
      " 9   day        4521 non-null   int64 \n",
      " 10  month      4521 non-null   object\n",
      " 11  duration   4521 non-null   int64 \n",
      " 12  campaign   4521 non-null   int64 \n",
      " 13  pdays      4521 non-null   int64 \n",
      " 14  previous   4521 non-null   int64 \n",
      " 15  poutcome   4521 non-null   object\n",
      " 16  y          4521 non-null   object\n",
      "dtypes: int64(7), object(10)\n",
      "memory usage: 600.6+ KB\n",
      "None\n"
     ]
    }
   ],
   "source": [
    "# Memeriksa nilai yang hilang\n",
    "print(data_raw.isnull().sum())\n",
    "\n",
    "# Menghapus baris dengan nilai yang hilang\n",
    "data_cleaned = data_raw.dropna()\n",
    "\n",
    "# Menampilkan data setelah menghapus nilai hilang\n",
    "print(data_cleaned.info())"
   ]
  },
  {
   "cell_type": "markdown",
   "id": "7a88bd75-3111-42e3-8b36-b842d8e0fa96",
   "metadata": {},
   "source": [
    "Kode: Mengecek jumlah nilai yang hilang, kemudian menghapus baris dengan nilai hilang.\n",
    "Tujuan: Menghilangkan potensi masalah analisis akibat data yang tidak lengkap.\n",
    "Hasil: Dataset bersih tanpa nilai yang hilang.\n"
   ]
  },
  {
   "cell_type": "markdown",
   "id": "99e83715-c713-4e1d-80f6-696fc382f85f",
   "metadata": {},
   "source": [
    "**Menstandarisasi Format Teks**"
   ]
  },
  {
   "cell_type": "code",
   "execution_count": 28,
   "id": "47c669bb-da63-43ca-b2c2-38b7aef31703",
   "metadata": {
    "tags": []
   },
   "outputs": [
    {
     "name": "stdout",
     "output_type": "stream",
     "text": [
      "   age          job  marital  education default  balance housing loan  \\\n",
      "0   30   unemployed  married    primary      no     1787      no   no   \n",
      "1   33     services  married  secondary      no     4789     yes  yes   \n",
      "2   35   management   single   tertiary      no     1350     yes   no   \n",
      "3   30   management  married   tertiary      no     1476     yes  yes   \n",
      "4   59  blue-collar  married  secondary      no        0     yes   no   \n",
      "\n",
      "    contact  day month  duration  campaign  pdays  previous poutcome   y  \n",
      "0  cellular   19   oct        79         1     -1         0  unknown  no  \n",
      "1  cellular   11   may       220         1    339         4  failure  no  \n",
      "2  cellular   16   apr       185         1    330         1  failure  no  \n",
      "3   unknown    3   jun       199         4     -1         0  unknown  no  \n",
      "4   unknown    5   may       226         1     -1         0  unknown  no  \n"
     ]
    }
   ],
   "source": [
    "# Standarisasi teks menjadi huruf kecil dan menghapus spasi tambahan\n",
    "categorical_columns = [\"job\", \"marital\", \"education\", \"default\", \"housing\", \"loan\", \"contact\", \"month\", \"poutcome\", \"y\"]\n",
    "for col in categorical_columns:\n",
    "    data_cleaned[col] = data_cleaned[col].str.lower().str.strip()\n",
    "\n",
    "# Menampilkan beberapa baris setelah standarisasi\n",
    "print(data_cleaned.head())"
   ]
  },
  {
   "cell_type": "markdown",
   "id": "a0e3b024-277f-47d9-a4e9-26477174af62",
   "metadata": {},
   "source": [
    "Kode: Kolom kategorikal disesuaikan menjadi huruf kecil dan spasi tambahan dihapus.\n",
    "Tujuan: Mencegah inkonsistensi akibat perbedaan format teks (contoh: Yes dan yes dianggap sama).\n",
    "Hasil: Data kategorikal bersih dan seragam.\n"
   ]
  },
  {
   "cell_type": "markdown",
   "id": "84fc66ba-8f59-45a7-86a7-d693f160b810",
   "metadata": {},
   "source": [
    "**Memeriksa dan Menghapus Duplikasi**"
   ]
  },
  {
   "cell_type": "code",
   "execution_count": 31,
   "id": "091dcbfd-0ec3-4031-a215-c9e79eefe25c",
   "metadata": {
    "tags": []
   },
   "outputs": [
    {
     "name": "stdout",
     "output_type": "stream",
     "text": [
      "0\n",
      "(4521, 17)\n"
     ]
    }
   ],
   "source": [
    "# Memeriksa jumlah duplikasi\n",
    "print(data_cleaned.duplicated().sum())\n",
    "\n",
    "# Menghapus duplikasi\n",
    "data_cleaned = data_cleaned.drop_duplicates()\n",
    "\n",
    "# Menampilkan data setelah menghapus duplikasi\n",
    "print(data_cleaned.shape)"
   ]
  },
  {
   "cell_type": "markdown",
   "id": "a3627f5d-61b6-405e-a8c9-d55f7282fb0c",
   "metadata": {},
   "source": [
    "Kode: Baris duplikasi dihapus.\n",
    "Tujuan: Menghindari bias dalam analisis akibat pengulangan data.\n",
    "Hasil: Dataset tanpa duplikasi."
   ]
  },
  {
   "cell_type": "markdown",
   "id": "e4c69074-a667-4dbd-a864-318a56fcef89",
   "metadata": {},
   "source": [
    "**Validasi Data**"
   ]
  },
  {
   "cell_type": "code",
   "execution_count": 32,
   "id": "54d03045-a47a-4455-ae48-702644e1ce62",
   "metadata": {
    "tags": []
   },
   "outputs": [
    {
     "name": "stdout",
     "output_type": "stream",
     "text": [
      "19 87\n",
      "['unemployed' 'services' 'management' 'blue-collar' 'self-employed'\n",
      " 'technician' 'entrepreneur' 'admin.' 'student' 'housemaid' 'retired'\n",
      " 'unknown']\n"
     ]
    }
   ],
   "source": [
    "# Validasi nilai dalam kolom tertentu\n",
    "print(data_cleaned[\"age\"].min(), data_cleaned[\"age\"].max())  # Validasi range usia\n",
    "print(data_cleaned[\"job\"].unique())  # Validasi kategori pekerjaan"
   ]
  },
  {
   "cell_type": "markdown",
   "id": "f582214d-0e96-455c-a38b-40032f167cfe",
   "metadata": {},
   "source": [
    "Kode: Mengecek range data numerik dan kategori data kategorikal.\n",
    "Tujuan: Memastikan data sesuai dengan ekspektasi domain bisnis.\n",
    "Hasil: Data sesuai untuk dianalisis."
   ]
  },
  {
   "cell_type": "markdown",
   "id": "43db1787-1db0-4857-a66a-ff9fbd2aa1b1",
   "metadata": {},
   "source": [
    "**Menyimpan Data yang Sudah Bersih**"
   ]
  },
  {
   "cell_type": "code",
   "execution_count": 33,
   "id": "644793b9-47f3-4710-8c87-024611671d10",
   "metadata": {
    "tags": []
   },
   "outputs": [],
   "source": [
    "# Menyimpan data ke file CSV baru\n",
    "data_cleaned.to_csv('bank_cleaned.csv', index=False)"
   ]
  },
  {
   "cell_type": "markdown",
   "id": "0e64516c-c902-41c2-8111-575c9c86ad53",
   "metadata": {},
   "source": [
    "**Mengimpor Library yang Diperlukan**"
   ]
  },
  {
   "cell_type": "code",
   "execution_count": 34,
   "id": "7728a037-13b9-47da-ab90-31883727d2cc",
   "metadata": {
    "tags": []
   },
   "outputs": [],
   "source": [
    "import pandas as pd\n",
    "import numpy as np\n",
    "import matplotlib.pyplot as plt\n",
    "import seaborn as sns\n",
    "\n",
    "# Untuk model regresi\n",
    "from sklearn.model_selection import train_test_split\n",
    "from sklearn.linear_model import LinearRegression, LogisticRegression\n",
    "from sklearn.metrics import mean_squared_error, r2_score, classification_report, confusion_matrix\n",
    "\n",
    "# Untuk uji statistik\n",
    "import statsmodels.api as sm\n",
    "from scipy import stats"
   ]
  },
  {
   "cell_type": "markdown",
   "id": "5dd8c74d-d206-4266-acea-840452b785b2",
   "metadata": {},
   "source": [
    "**Analisis Regresi Linier**"
   ]
  },
  {
   "cell_type": "markdown",
   "id": "b360154b-1baf-4c81-b483-4abd7e42565c",
   "metadata": {},
   "source": [
    "1. Memilih Variabel"
   ]
  },
  {
   "cell_type": "markdown",
   "id": "91a7280a-e443-42a4-a963-40076516ab4a",
   "metadata": {},
   "source": [
    "Regresi linier memerlukan variabel independen (X) dan variabel dependen (y). \n",
    "Misalnya:\n",
    "Variabel Dependen (y): balance (saldo bank). \n",
    "Variabel Independen (X): age, duration, dan campaign."
   ]
  },
  {
   "cell_type": "markdown",
   "id": "cf1faeb9-c962-40bf-8f2e-ea84268a47a8",
   "metadata": {},
   "source": [
    "2. Membagi Data"
   ]
  },
  {
   "cell_type": "code",
   "execution_count": 40,
   "id": "3df47996-43b2-4f23-9203-b7fc41893691",
   "metadata": {
    "tags": []
   },
   "outputs": [
    {
     "name": "stdout",
     "output_type": "stream",
     "text": [
      "(3616, 3) (905, 3) (3616,) (905,)\n"
     ]
    }
   ],
   "source": [
    "from sklearn.model_selection import train_test_split\n",
    "\n",
    "# Memilih variabel\n",
    "X = data_cleaned[['age', 'duration', 'campaign']]\n",
    "y = data_cleaned['balance']\n",
    "\n",
    "# Membagi data\n",
    "X_train, X_test, y_train, y_test = train_test_split(X, y, test_size=0.2, random_state=42)\n",
    "\n",
    "# Menampilkan dimensi data\n",
    "print(X_train.shape, X_test.shape, y_train.shape, y_test.shape)"
   ]
  },
  {
   "cell_type": "markdown",
   "id": "f05f0116-adeb-4e94-976a-d43029b7359c",
   "metadata": {},
   "source": [
    "Kode: Data dibagi menjadi training (80%) dan testing (20%).\n",
    "Tujuan: Memastikan evaluasi model dilakukan pada data yang tidak terlihat saat pelatihan.\n",
    "Hasil: Data terpisah untuk pelatihan dan pengujian"
   ]
  },
  {
   "cell_type": "markdown",
   "id": "be423a44-4563-4232-97a5-4e3b3e274987",
   "metadata": {},
   "source": [
    "3. Membuat Model Regresi Linier"
   ]
  },
  {
   "cell_type": "code",
   "execution_count": 41,
   "id": "43dee81f-383d-4030-aaba-51c581c9ab38",
   "metadata": {
    "tags": []
   },
   "outputs": [
    {
     "name": "stdout",
     "output_type": "stream",
     "text": [
      "Koefisien: [25.09076413 -0.15023197 -2.75766159]\n",
      "Intercept: 428.99912956378193\n"
     ]
    }
   ],
   "source": [
    "from sklearn.linear_model import LinearRegression\n",
    "\n",
    "# Membuat model regresi linier\n",
    "model = LinearRegression()\n",
    "\n",
    "# Melatih model dengan data training\n",
    "model.fit(X_train, y_train)\n",
    "\n",
    "# Menampilkan koefisien model\n",
    "print(\"Koefisien:\", model.coef_)\n",
    "print(\"Intercept:\", model.intercept_)"
   ]
  },
  {
   "cell_type": "markdown",
   "id": "7bb15dad-a93b-4d49-a8bb-26b905cf1398",
   "metadata": {},
   "source": [
    "Kode: Model regresi linier dilatih menggunakan data training.\n",
    "Tujuan: Mempelajari hubungan antara variabel independen dan dependen.\n",
    "Hasil: Model dengan koefisien dan intercept.\n"
   ]
  },
  {
   "cell_type": "markdown",
   "id": "ab5efc31-aca6-455e-b1da-84148794982d",
   "metadata": {},
   "source": [
    "4. Memprediksi Data "
   ]
  },
  {
   "cell_type": "code",
   "execution_count": 43,
   "id": "a6022bfc-508f-4da4-9185-e5dfe0495c4f",
   "metadata": {
    "tags": []
   },
   "outputs": [
    {
     "name": "stdout",
     "output_type": "stream",
     "text": [
      "Prediksi: [1673.60359854 1601.40370921 1655.58396344 1284.40050559 1149.7679294 ]\n",
      "Asli: [-2082  2881  1412     0   757]\n"
     ]
    }
   ],
   "source": [
    "# Prediksi menggunakan data \n",
    "y_pred = model.predict(X_test)\n",
    "\n",
    "# Menampilkan beberapa hasil prediksi\n",
    "print(\"Prediksi:\", y_pred[:5])\n",
    "print(\"Asli:\", y_test[:5].values)"
   ]
  },
  {
   "cell_type": "markdown",
   "id": "ddb5c3f5-d49c-44b4-8dae-ef0e82580a1c",
   "metadata": {},
   "source": [
    "Kode: Prediksi dibuat berdasarkan data testing.\n",
    "Tujuan: Membandingkan prediksi model dengan nilai aktual.\n",
    "Hasil: Hasil prediksi untuk evaluasi.\n"
   ]
  },
  {
   "cell_type": "markdown",
   "id": "fad91389-38ff-4406-b44e-f2e804024f15",
   "metadata": {},
   "source": [
    "5. Evaluasi Model"
   ]
  },
  {
   "cell_type": "code",
   "execution_count": 44,
   "id": "f257d3e6-d5ce-4487-b8e5-ef3cd5bf64bd",
   "metadata": {
    "tags": []
   },
   "outputs": [
    {
     "name": "stdout",
     "output_type": "stream",
     "text": [
      "Mean Squared Error (MSE): 14128749.558585638\n",
      "R-squared: 0.00259030237847524\n"
     ]
    }
   ],
   "source": [
    "from sklearn.metrics import mean_squared_error, r2_score\n",
    "\n",
    "# Menghitung MSE dan R-squared\n",
    "mse = mean_squared_error(y_test, y_pred)\n",
    "r2 = r2_score(y_test, y_pred)\n",
    "\n",
    "print(\"Mean Squared Error (MSE):\", mse)\n",
    "print(\"R-squared:\", r2)"
   ]
  },
  {
   "cell_type": "markdown",
   "id": "02a76ecf-3db8-4127-9192-61fadfdac37c",
   "metadata": {},
   "source": [
    "Kode: Model dievaluasi dengan MSE (error rata-rata kuadrat) dan R² (kekuatan model menjelaskan data).\n",
    "Tujuan: Menilai performa model.\n",
    "Hasil:\n",
    " MSE: Semakin kecil semakin baik.\n",
    " R²: Nilai mendekati 1 menunjukkan model yang baik.\n"
   ]
  },
  {
   "cell_type": "markdown",
   "id": "854ec6e7-4134-4afa-8e89-4f87a0810143",
   "metadata": {},
   "source": [
    "6. Uji Hipotesis (t-Test dan z-Test)"
   ]
  },
  {
   "cell_type": "markdown",
   "id": "b519776c-e1a2-496d-8a49-7139acef6c10",
   "metadata": {},
   "source": [
    "Untuk uji hipotesis pada koefisien regresi, kita perlu menghitung nilai t dan p-value. Misalnya untuk age:"
   ]
  },
  {
   "cell_type": "code",
   "execution_count": 45,
   "id": "48de26ac-1187-439c-bc8b-e9ff6a71f9f1",
   "metadata": {
    "tags": []
   },
   "outputs": [
    {
     "name": "stdout",
     "output_type": "stream",
     "text": [
      "                            OLS Regression Results                            \n",
      "==============================================================================\n",
      "Dep. Variable:                balance   R-squared:                       0.009\n",
      "Model:                            OLS   Adj. R-squared:                  0.009\n",
      "Method:                 Least Squares   F-statistic:                     11.43\n",
      "Date:                Tue, 19 Nov 2024   Prob (F-statistic):           1.85e-07\n",
      "Time:                        13:34:16   Log-Likelihood:                -33801.\n",
      "No. Observations:                3616   AIC:                         6.761e+04\n",
      "Df Residuals:                    3612   BIC:                         6.763e+04\n",
      "Df Model:                           3                                         \n",
      "Covariance Type:            nonrobust                                         \n",
      "==============================================================================\n",
      "                 coef    std err          t      P>|t|      [0.025      0.975]\n",
      "------------------------------------------------------------------------------\n",
      "const        428.9991    196.314      2.185      0.029      44.101     813.897\n",
      "age           25.0908      4.334      5.790      0.000      16.594      33.587\n",
      "duration      -0.1502      0.181     -0.832      0.405      -0.504       0.204\n",
      "campaign      -2.7577     14.344     -0.192      0.848     -30.881      25.366\n",
      "==============================================================================\n",
      "Omnibus:                     3169.804   Durbin-Watson:                   2.029\n",
      "Prob(Omnibus):                  0.000   Jarque-Bera (JB):            96612.881\n",
      "Skew:                           4.181   Prob(JB):                         0.00\n",
      "Kurtosis:                      26.902   Cond. No.                     1.57e+03\n",
      "==============================================================================\n",
      "\n",
      "Notes:\n",
      "[1] Standard Errors assume that the covariance matrix of the errors is correctly specified.\n",
      "[2] The condition number is large, 1.57e+03. This might indicate that there are\n",
      "strong multicollinearity or other numerical problems.\n"
     ]
    }
   ],
   "source": [
    "import statsmodels.api as sm\n",
    "\n",
    "# Menambahkan konstanta untuk analisis statistik\n",
    "X_train_const = sm.add_constant(X_train)\n",
    "\n",
    "# Membuat model menggunakan statsmodels\n",
    "model_sm = sm.OLS(y_train, X_train_const).fit()\n",
    "\n",
    "# Menampilkan ringkasan model (termasuk t-test dan z-test)\n",
    "print(model_sm.summary())"
   ]
  },
  {
   "cell_type": "markdown",
   "id": "6a57e328-6446-4199-91ed-6e043ccafee4",
   "metadata": {},
   "source": [
    "Kode:\n",
    "sm.add_constant(X_train): Menambahkan konstanta (intercept) ke data variabel independen X_train.\n",
    "sm.OLS(y_train, X_train_const).fit(): Membuat dan menyesuaikan model regresi OLS menggunakan data pelatihan (X_train_const sebagai variabel independen dan y_train sebagai variabel dependen).\n",
    "summary(): Menampilkan ringkasan hasil regresi, termasuk koefisien, p-value, R-squared, dan statistik lainnya.\n",
    "\n",
    "Tujuan:\n",
    "Menganalisis hubungan antara variabel independen (X_train) dan variabel dependen (y_train).\n",
    "Mengidentifikasi pengaruh signifikan (berdasarkan p-value) dari variabel independen terhadap variabel dependen.\n",
    "\n",
    "Hasil:\n",
    "Koefisien regresi menunjukkan kekuatan dan arah pengaruh setiap variabel.\n",
    "P-value menunjukkan signifikansi statistik masing-masing variabel.\n",
    "R-squared mengukur seberapa baik model menjelaskan variabilitas data dependen.\n",
    "\n",
    "\n",
    "\n",
    "\n",
    "\n"
   ]
  },
  {
   "cell_type": "markdown",
   "id": "7c784a5f-c59d-49c1-8ea3-08525389564c",
   "metadata": {},
   "source": [
    "**Metode Regresi Logistik**"
   ]
  },
  {
   "cell_type": "markdown",
   "id": "bdd04215-c4a9-45f3-91a9-97ac31759526",
   "metadata": {},
   "source": [
    "1. Memilih Variabel"
   ]
  },
  {
   "cell_type": "markdown",
   "id": "d6dde87e-d589-4721-89ba-0bdbfcdf31dc",
   "metadata": {},
   "source": [
    "- Variabel Dependen (y): y (apakah pelanggan berlangganan deposito: yes atau no).\n",
    "- Variabel Independen (X): age, duration, dan campaign.\n"
   ]
  },
  {
   "cell_type": "markdown",
   "id": "52f74a5a-091a-4c57-87dd-b2816bc131b6",
   "metadata": {},
   "source": [
    "2. Membuat Variabel Dependen Biner"
   ]
  },
  {
   "cell_type": "markdown",
   "id": "05928cfd-7950-4504-9b4d-2abf4b954ac5",
   "metadata": {},
   "source": [
    "Variabel dependen y harus diubah menjadi nilai numerik (0 dan 1)."
   ]
  },
  {
   "cell_type": "code",
   "execution_count": 46,
   "id": "0fc16472-7597-478a-b958-79f9e6a00ee7",
   "metadata": {
    "tags": []
   },
   "outputs": [
    {
     "name": "stdout",
     "output_type": "stream",
     "text": [
      "0    4000\n",
      "1     521\n",
      "Name: y, dtype: int64\n"
     ]
    }
   ],
   "source": [
    "# Mengubah variabel dependen menjadi biner\n",
    "data_cleaned['y'] = data_cleaned['y'].apply(lambda x: 1 if x == 'yes' else 0)\n",
    "\n",
    "# Memilih variabel independen dan dependen\n",
    "X = data_cleaned[['age', 'duration', 'campaign']]\n",
    "y = data_cleaned['y']\n",
    "\n",
    "# Menampilkan distribusi variabel dependen\n",
    "print(y.value_counts())"
   ]
  },
  {
   "cell_type": "markdown",
   "id": "c46d3e37-a211-4275-be50-57d474c6f45b",
   "metadata": {},
   "source": [
    "Kode tersebut digunakan untuk mempersiapkan data sebelum analisis model, khususnya untuk regresi logistik atau klasifikasi biner.\n",
    "\n",
    "Mengubah variabel dependen: Kolom y diubah menjadi biner (1 jika nilainya \"yes\", 0 jika \"no\") agar sesuai untuk analisis klasifikasi biner.\n",
    "Memilih variabel: Variabel independen (age, duration, campaign) dipilih sebagai prediktor, dan variabel dependen (y) dipilih sebagai target analisis.\n",
    "Distribusi variabel dependen: Distribusi data pada y ditampilkan untuk memeriksa keseimbangan data (jumlah 1 dan 0).\n",
    "\n",
    "Tujuan: Mempersiapkan data untuk analisis klasifikasi dan memastikan distribusi variabel dependen diketahui untuk evaluasi model."
   ]
  },
  {
   "cell_type": "markdown",
   "id": "944294f4-98f9-48e0-a272-8c18d0da27e7",
   "metadata": {},
   "source": [
    "3. Membagi Data"
   ]
  },
  {
   "cell_type": "code",
   "execution_count": 47,
   "id": "fee1604a-6f43-40f6-9011-a9d5fbd5734f",
   "metadata": {
    "tags": []
   },
   "outputs": [
    {
     "name": "stdout",
     "output_type": "stream",
     "text": [
      "(3616, 3) (905, 3) (3616,) (905,)\n"
     ]
    }
   ],
   "source": [
    "from sklearn.model_selection import train_test_split\n",
    "\n",
    "# Membagi data\n",
    "X_train, X_test, y_train, y_test = train_test_split(X, y, test_size=0.2, random_state=42)\n",
    "\n",
    "# Menampilkan dimensi data\n",
    "print(X_train.shape, X_test.shape, y_train.shape, y_test.shape)"
   ]
  },
  {
   "cell_type": "markdown",
   "id": "1b58cf8d-61ad-48d8-b31f-b7d12f17ded1",
   "metadata": {},
   "source": [
    "Kode: Data dibagi menjadi data pelatihan (80%) dan data pengujian (20%) menggunakan fungsi train_test_split dari scikit-learn.\n",
    "Tujuan: Memisahkan data menjadi subset untuk melatih model (X_train, y_train) dan mengevaluasinya (X_test, y_test) guna memastikan performa model dapat diuji pada data yang belum terlihat.\n",
    "Hasil: Dimensi data pelatihan dan pengujian ditampilkan untuk memverifikasi proporsi pembagian."
   ]
  },
  {
   "cell_type": "markdown",
   "id": "bf413eb3-855f-499e-ae50-678d3020b580",
   "metadata": {},
   "source": [
    "4. Membuat Model Regresi Logistik"
   ]
  },
  {
   "cell_type": "code",
   "execution_count": 48,
   "id": "c5b3680b-7705-48b3-a986-469fbc3756fb",
   "metadata": {
    "tags": []
   },
   "outputs": [
    {
     "name": "stdout",
     "output_type": "stream",
     "text": [
      "Koefisien: [[ 0.01762043  0.00367384 -0.10574584]]\n",
      "Intercept: [-3.76331615]\n"
     ]
    }
   ],
   "source": [
    "from sklearn.linear_model import LogisticRegression\n",
    "\n",
    "# Membuat model regresi logistik\n",
    "logreg = LogisticRegression(max_iter=1000)\n",
    "\n",
    "# Melatih model dengan data training\n",
    "logreg.fit(X_train, y_train)\n",
    "\n",
    "# Menampilkan koefisien model\n",
    "print(\"Koefisien:\", logreg.coef_)\n",
    "print(\"Intercept:\", logreg.intercept_)"
   ]
  },
  {
   "cell_type": "markdown",
   "id": "60b26353-9192-4d43-9759-9d2e5557ac19",
   "metadata": {},
   "source": [
    "Kode: Model regresi logistik dibuat dan dilatih menggunakan data pelatihan.\n",
    "Tujuan: Membangun model klasifikasi biner untuk memprediksi variabel dependen menggunakan variabel independen, serta memperoleh koefisien dan intercept dari model.\n",
    "Hasil: Koefisien dan intercept model ditampilkan, yang menunjukkan pengaruh variabel independen terhadap probabilitas prediksi."
   ]
  },
  {
   "cell_type": "markdown",
   "id": "4df52547-9f01-435b-80ed-407549588d4b",
   "metadata": {},
   "source": [
    "5. Memprediksi Data"
   ]
  },
  {
   "cell_type": "code",
   "execution_count": 49,
   "id": "b17210da-499c-4d46-b118-cad4a856db9b",
   "metadata": {
    "tags": []
   },
   "outputs": [
    {
     "name": "stdout",
     "output_type": "stream",
     "text": [
      "Probabilitas: [0.04533562 0.22791406 0.06190449 0.02715622 0.10261997]\n",
      "Prediksi: [0 0 0 0 0]\n",
      "Asli: [0 0 0 0 0]\n"
     ]
    }
   ],
   "source": [
    "# Prediksi probabilitas dan label\n",
    "y_pred_proba = logreg.predict_proba(X_test)[:, 1]  # Probabilitas untuk kelas 1\n",
    "y_pred = logreg.predict(X_test)  # Label prediksi\n",
    "\n",
    "# Menampilkan beberapa hasil prediksi\n",
    "print(\"Probabilitas:\", y_pred_proba[:5])\n",
    "print(\"Prediksi:\", y_pred[:5])\n",
    "print(\"Asli:\", y_test[:5].values)"
   ]
  },
  {
   "cell_type": "markdown",
   "id": "d7f2a6f8-c41d-4bd8-8c0b-d398d3ad186a",
   "metadata": {},
   "source": [
    "Kode: Probabilitas prediksi untuk kelas 1 dihitung menggunakan metode predict_proba, sementara label prediksi dihitung menggunakan metode predict. Beberapa hasil prediksi ditampilkan bersama dengan label asli.\n",
    "Tujuan: Mengevaluasi performa model regresi logistik dalam memprediksi probabilitas dan label untuk kelas 1, serta membandingkan hasil prediksi dengan label asli untuk mengukur akurasi model.\n",
    "Hasil: Probabilitas untuk kelas 1, label prediksi, dan label asli ditampilkan untuk beberapa sampel, yang memungkinkan analisis awal terhadap kinerja model."
   ]
  },
  {
   "cell_type": "markdown",
   "id": "c05a4300-2a4e-4c41-9c7a-b4738d950309",
   "metadata": {},
   "source": [
    "6. Evaluasi Model"
   ]
  },
  {
   "cell_type": "markdown",
   "id": "4a5aa77e-4a84-4b3e-a433-c911bf493b32",
   "metadata": {},
   "source": [
    "Akurasi dan Confusion Matrix"
   ]
  },
  {
   "cell_type": "code",
   "execution_count": 50,
   "id": "217f38b4-7bfb-4a99-af10-2b665dfcebd1",
   "metadata": {
    "tags": []
   },
   "outputs": [
    {
     "name": "stdout",
     "output_type": "stream",
     "text": [
      "Akurasi: 0.8895027624309392\n",
      "Confusion Matrix:\n",
      " [[789  18]\n",
      " [ 82  16]]\n",
      "\n",
      "Classification Report:\n",
      "               precision    recall  f1-score   support\n",
      "\n",
      "           0       0.91      0.98      0.94       807\n",
      "           1       0.47      0.16      0.24        98\n",
      "\n",
      "    accuracy                           0.89       905\n",
      "   macro avg       0.69      0.57      0.59       905\n",
      "weighted avg       0.86      0.89      0.86       905\n",
      "\n"
     ]
    }
   ],
   "source": [
    "from sklearn.metrics import accuracy_score, confusion_matrix, classification_report\n",
    "\n",
    "# Menghitung akurasi\n",
    "accuracy = accuracy_score(y_test, y_pred)\n",
    "\n",
    "# Membuat confusion matrix\n",
    "conf_matrix = confusion_matrix(y_test, y_pred)\n",
    "\n",
    "# Menampilkan laporan klasifikasi\n",
    "print(\"Akurasi:\", accuracy)\n",
    "print(\"Confusion Matrix:\\n\", conf_matrix)\n",
    "print(\"\\nClassification Report:\\n\", classification_report(y_test, y_pred))"
   ]
  },
  {
   "cell_type": "markdown",
   "id": "b10637ed-4d7d-495e-b07c-b6d4092faa40",
   "metadata": {},
   "source": [
    "Kode: Menggunakan metrik evaluasi dari sklearn untuk mengevaluasi performa model klasifikasi. Akurasi dihitung menggunakan fungsi accuracy_score, confusion matrix dibuat dengan confusion_matrix, dan laporan klasifikasi ditampilkan menggunakan classification_report.\n",
    "\n",
    "Tujuan: Menilai performa model klasifikasi dengan berbagai metrik, seperti akurasi, precision, recall, F1-score, serta memeriksa distribusi prediksi model melalui confusion matrix.\n",
    "\n",
    "Hasil:\n",
    "Akurasi: Menunjukkan proporsi prediksi yang benar terhadap keseluruhan data uji.\n",
    "Confusion Matrix: Menggambarkan jumlah true positives, true negatives, false positives, dan false negatives.\n",
    "Laporan Klasifikasi: Memberikan ringkasan metrik utama untuk setiap kelas, seperti precision, recall, F1-score, dan support, guna memberikan pemahaman mendalam tentang kinerja model."
   ]
  },
  {
   "cell_type": "markdown",
   "id": "99d7ea6b-f45e-4d38-8238-c5bacdf5cf67",
   "metadata": {},
   "source": [
    "7. Uji Hipotesis (z-Test untuk Koefisien)"
   ]
  },
  {
   "cell_type": "code",
   "execution_count": 51,
   "id": "04d26ac3-e08e-4a95-be6d-9b8c9758f4cb",
   "metadata": {
    "tags": []
   },
   "outputs": [
    {
     "name": "stdout",
     "output_type": "stream",
     "text": [
      "Optimization terminated successfully.\n",
      "         Current function value: 0.296343\n",
      "         Iterations 7\n",
      "                           Logit Regression Results                           \n",
      "==============================================================================\n",
      "Dep. Variable:                      y   No. Observations:                 3616\n",
      "Model:                          Logit   Df Residuals:                     3612\n",
      "Method:                           MLE   Df Model:                            3\n",
      "Date:                Tue, 19 Nov 2024   Pseudo R-squ.:                  0.1788\n",
      "Time:                        13:48:44   Log-Likelihood:                -1071.6\n",
      "converged:                       True   LL-Null:                       -1304.9\n",
      "Covariance Type:            nonrobust   LLR p-value:                8.181e-101\n",
      "==============================================================================\n",
      "                 coef    std err          z      P>|z|      [0.025      0.975]\n",
      "------------------------------------------------------------------------------\n",
      "const         -3.7631      0.248    -15.188      0.000      -4.249      -3.278\n",
      "age            0.0176      0.005      3.473      0.001       0.008       0.028\n",
      "duration       0.0037      0.000     18.743      0.000       0.003       0.004\n",
      "campaign      -0.1058      0.030     -3.573      0.000      -0.164      -0.048\n",
      "==============================================================================\n"
     ]
    }
   ],
   "source": [
    "import statsmodels.api as sm\n",
    "\n",
    "# Menambahkan konstanta untuk analisis statistik\n",
    "X_train_const = sm.add_constant(X_train)\n",
    "\n",
    "# Membuat model regresi logistik menggunakan statsmodels\n",
    "logreg_sm = sm.Logit(y_train, X_train_const).fit()\n",
    "\n",
    "# Menampilkan ringkasan model\n",
    "print(logreg_sm.summary())"
   ]
  },
  {
   "cell_type": "markdown",
   "id": "df0537dc-4547-4c15-9b00-f6aaa4094ac7",
   "metadata": {},
   "source": [
    "Kode: Membuat model regresi logistik menggunakan library statsmodels. Konstanta ditambahkan ke data independen dengan sm.add_constant, lalu model Logit dilatih menggunakan data pelatihan. Hasil model diringkas dengan metode summary().\n",
    "\n",
    "Tujuan: Melakukan analisis statistik regresi logistik untuk memahami hubungan antara variabel independen dan dependen. Ringkasan model menyediakan informasi mendetail, seperti koefisien, nilai p, dan statistik uji lainnya, yang berguna untuk interpretasi hasil.\n",
    "\n",
    "Hasil:\n",
    "Koefisien Regresi: Mengindikasikan pengaruh masing-masing variabel independen terhadap peluang (odds) kejadian.\n",
    "Nilai P (P-Value): Menguji signifikansi statistik dari setiap koefisien, membantu mengidentifikasi variabel yang signifikan.\n",
    "Goodness of Fit: Statistik model seperti pseudo R-squared dan log-likelihood menunjukkan sejauh mana model sesuai dengan data."
   ]
  },
  {
   "cell_type": "markdown",
   "id": "714ac8e5-129a-45b7-8a9e-5d3ed090954e",
   "metadata": {},
   "source": [
    "**Metode Regresi Ridge**"
   ]
  },
  {
   "cell_type": "markdown",
   "id": "43aa0ee6-3656-4235-9d41-05337affc303",
   "metadata": {},
   "source": [
    "1. Persiapan Data"
   ]
  },
  {
   "cell_type": "markdown",
   "id": "a139bb43-2ef5-4f4d-af48-7225942d5bbf",
   "metadata": {},
   "source": [
    "Kita akan menggunakan variabel numerik dari dataset yang sudah bersih: age, duration, dan campaign sebagai prediktor, dengan target y (apakah pelanggan berlangganan deposito: 1 untuk \"yes\", 0 untuk \"no\")"
   ]
  },
  {
   "cell_type": "code",
   "execution_count": 56,
   "id": "3abd9c29-526a-4891-8cd4-5742365efdd9",
   "metadata": {
    "tags": []
   },
   "outputs": [
    {
     "name": "stdout",
     "output_type": "stream",
     "text": [
      "(3616, 3) (905, 3) (3616,) (905,)\n"
     ]
    }
   ],
   "source": [
    "from sklearn.linear_model import Ridge\n",
    "from sklearn.model_selection import train_test_split\n",
    "from sklearn.metrics import mean_squared_error, r2_score\n",
    "\n",
    "# Memisahkan variabel prediktor dan target\n",
    "X = data_cleaned[['age', 'duration', 'campaign']]\n",
    "y = data_cleaned['y']\n",
    "\n",
    "# Membagi dataset menjadi training dan testing\n",
    "X_train, X_test, y_train, y_test = train_test_split(X, y, test_size=0.2, random_state=42)\n",
    "print(X_train.shape, X_test.shape, y_train.shape, y_test.shape)"
   ]
  },
  {
   "cell_type": "markdown",
   "id": "4a3e23f4-b2fa-425a-a70c-ab7b91fd5d29",
   "metadata": {},
   "source": [
    "Kode: Dataset dipisahkan menjadi variabel prediktor (X) dan variabel target (y). Variabel prediktor mencakup kolom age, duration, dan campaign, sementara variabel target adalah kolom y. Data kemudian dibagi menjadi data pelatihan dan data pengujian menggunakan train_test_split dengan rasio 80:20, serta random_state diset untuk reproduktibilitas.\n",
    "\n",
    "Tujuan:\n",
    "Memisahkan variabel: Memisahkan variabel independen (prediktor) dan dependen (target) untuk keperluan pemodelan.\n",
    "Membagi dataset: Membagi data menjadi data pelatihan (untuk melatih model) dan data pengujian (untuk mengevaluasi performa model). Proporsi 80:20 memastikan jumlah data yang cukup untuk pelatihan tanpa mengurangi keakuratan evaluasi.\n",
    "Reproduktibilitas: Menetapkan random_state agar pembagian dataset konsisten setiap kali kode dijalankan.\n",
    "\n",
    "Hasil: Ukuran dataset untuk pelatihan dan pengujian ditampilkan, memastikan bahwa data terbagi dengan benar untuk melanjutkan ke langkah pemodelan."
   ]
  },
  {
   "cell_type": "markdown",
   "id": "2a19bf1f-0e4f-4f11-896f-0c0e4210321c",
   "metadata": {
    "tags": []
   },
   "source": [
    "2. Membuat dan Melatih Model Regresi Ridge "
   ]
  },
  {
   "cell_type": "code",
   "execution_count": 57,
   "id": "ba9ed61f-a9d7-45a3-9957-a030595336d9",
   "metadata": {
    "tags": []
   },
   "outputs": [
    {
     "name": "stdout",
     "output_type": "stream",
     "text": [
      "Koefisien Ridge Regression: [ 0.00169883  0.00050636 -0.00320212]\n",
      "Intercept Ridge Regression: -0.07779335790252158\n"
     ]
    }
   ],
   "source": [
    "# Membuat model Ridge Regression\n",
    "ridge_model = Ridge(alpha=1.0)  # Alpha adalah parameter regularisasi\n",
    "\n",
    "# Melatih model\n",
    "ridge_model.fit(X_train, y_train)\n",
    "\n",
    "# Menampilkan koefisien dan intercept\n",
    "print(\"Koefisien Ridge Regression:\", ridge_model.coef_)\n",
    "print(\"Intercept Ridge Regression:\", ridge_model.intercept_)"
   ]
  },
  {
   "cell_type": "markdown",
   "id": "0a1458a0-6434-4ea3-b66b-74ab80794e73",
   "metadata": {},
   "source": [
    "Kode: Model Ridge Regression dibuat menggunakan kelas Ridge dari sklearn, dengan parameter regularisasi alpha diset ke 1.0. Model kemudian dilatih menggunakan data pelatihan X_train dan y_train. Koefisien regresi dan intercept dari model ditampilkan untuk interpretasi.\n",
    "\n",
    "Tujuan:\n",
    "Membangun model Ridge Regression: Ridge Regression digunakan untuk menangani multikolinearitas dan overfitting pada data dengan menambahkan regularisasi (penalti pada besarnya koefisien).\n",
    "Menentukan koefisien dan intercept:\n",
    "Koefisien: Menggambarkan hubungan antara variabel independen dan variabel dependen dengan pengaruh regularisasi.\n",
    "Intercept: Menunjukkan nilai prediksi saat semua variabel independen bernilai nol.\n",
    "\n",
    "Hasil:\n",
    "Koefisien Ridge Regression: Menunjukkan pengaruh masing-masing fitur terhadap target, dengan regularisasi alpha yang membantu mencegah koefisien menjadi terlalu besar.\n",
    "Intercept Ridge Regression: Memberikan baseline prediksi untuk model.\n",
    "Parameter alpha berfungsi mengontrol tingkat regularisasi: nilai alpha yang lebih besar memperkuat regularisasi, mengurangi kompleksitas model, dan meningkatkan generalisasi."
   ]
  },
  {
   "cell_type": "markdown",
   "id": "45e64a5c-50cb-436c-9c53-a8bad786f6b1",
   "metadata": {},
   "source": [
    "3. Evaluasi Model"
   ]
  },
  {
   "cell_type": "code",
   "execution_count": 58,
   "id": "ab44252d-85cf-4dd5-9028-72b842013814",
   "metadata": {
    "tags": []
   },
   "outputs": [
    {
     "name": "stdout",
     "output_type": "stream",
     "text": [
      "Mean Squared Error (MSE): 0.08317130833483857\n",
      "R-squared (R²): 0.13866701048300378\n"
     ]
    }
   ],
   "source": [
    "# Prediksi pada data \n",
    "y_pred = ridge_model.predict(X_test)\n",
    "\n",
    "# Menghitung Mean Squared Error dan R-squared\n",
    "mse = mean_squared_error(y_test, y_pred)\n",
    "r2 = r2_score(y_test, y_pred)\n",
    "\n",
    "print(\"Mean Squared Error (MSE):\", mse)\n",
    "print(\"R-squared (R²):\", r2)"
   ]
  },
  {
   "cell_type": "markdown",
   "id": "5194df55-5e29-4676-b683-a2da18249ae2",
   "metadata": {},
   "source": [
    "Kode: Model Ridge Regression digunakan untuk memprediksi target pada data pengujian X_test. Evaluasi performa model dilakukan dengan menghitung Mean Squared Error (MSE) dan R-squared (R²). Hasil MSE dan R² ditampilkan untuk memberikan pemahaman tentang akurasi dan kecocokan model.\n",
    "\n",
    "Tujuan:\n",
    "Prediksi: Menghasilkan nilai target prediksi (y_pred) berdasarkan fitur dalam data pengujian.\n",
    "Evaluasi Model:\n",
    "Mean Squared Error (MSE): Mengukur rata-rata kesalahan kuadrat antara nilai sebenarnya (y_test) dan prediksi (y_pred). Semakin kecil MSE, semakin baik model.\n",
    "R-squared (R²): Mengukur seberapa baik model menjelaskan variasi dalam data target. Nilai R² berkisar antara 0 hingga 1, dengan nilai mendekati 1 menunjukkan model sangat baik menjelaskan data.\n",
    "\n",
    "Hasil:\n",
    "MSE: Memberikan ukuran absolut error prediksi model, yang relevan untuk membandingkan model yang berbeda.\n",
    "R²: Menunjukkan proporsi variabilitas dalam target yang dapat dijelaskan oleh fitur independen, memberikan indikasi kekuatan prediksi model.\n",
    "Evaluasi ini membantu memahami kinerja model pada data yang belum pernah dilihat sebelumnya (data pengujian)."
   ]
  },
  {
   "cell_type": "markdown",
   "id": "293e91de-ae5a-44f9-abda-34693887fab6",
   "metadata": {},
   "source": [
    "4. Visualisasi Hasil"
   ]
  },
  {
   "cell_type": "code",
   "execution_count": 60,
   "id": "5cabc916-8edc-44a6-b04d-a8737da50106",
   "metadata": {
    "tags": []
   },
   "outputs": [
    {
     "data": {
      "image/png": "[encoded data removed]",
      "text/plain": [
       "<Figure size 800x600 with 1 Axes>"
      ]
     },
     "metadata": {},
     "output_type": "display_data"
    }
   ],
   "source": [
    "import matplotlib.pyplot as plt\n",
    "\n",
    "# Plot hasil prediksi vs nilai sebenarnya\n",
    "plt.figure(figsize=(8, 6))\n",
    "plt.scatter(y_test, y_pred, alpha=0.6)\n",
    "plt.xlabel(\"Nilai Sebenarnya (y_test)\")\n",
    "plt.ylabel(\"Nilai Prediksi (y_pred)\")\n",
    "plt.title(\"Prediksi vs Nilai Sebenarnya - Regresi Ridge\")\n",
    "plt.grid(True)\n",
    "plt.show()"
   ]
  },
  {
   "cell_type": "markdown",
   "id": "3b1ddb62-4586-4e0b-807e-1f43ef70ca51",
   "metadata": {},
   "source": [
    "Kode: Visualisasi dibuat dengan matplotlib untuk membandingkan nilai prediksi (y_pred) dengan nilai sebenarnya (y_test) dari model Ridge Regression. Plot scatter digunakan untuk menunjukkan hubungan antara keduanya, dengan sumbu x merepresentasikan nilai sebenarnya dan sumbu y menunjukkan nilai prediksi.\n",
    "\n",
    "Tujuan:\n",
    "Memeriksa Kesesuaian: Melihat sejauh mana prediksi model mendekati nilai sebenarnya. Idealnya, titik-titik akan berada di sekitar garis diagonal (y = x), menunjukkan prediksi yang akurat.\n",
    "Identifikasi Pola atau Kesalahan: Mengidentifikasi pola sistematis dalam kesalahan prediksi atau mendeteksi outlier.\n",
    "\n",
    "Hasil Visualisasi:\n",
    "Titik-titik dekat garis diagonal: Menunjukkan prediksi yang akurat dan model bekerja dengan baik pada data tersebut.\n",
    "Penyebaran titik-titik: Jika terdapat penyebaran yang luas atau pola tertentu, ini bisa menandakan kelemahan model dalam menangkap hubungan antara variabel independen dan target.\n",
    "Outlier: Titik-titik yang jauh dari diagonal dapat menunjukkan prediksi yang sangat meleset, yang mungkin memerlukan analisis lebih lanjut.\n",
    "Visualisasi ini memberikan cara intuitif untuk memahami performa model secara keseluruhan dan membantu mengevaluasi kecocokan model dengan data."
   ]
  },
  {
   "cell_type": "markdown",
   "id": "b60fcd67-4da7-45ec-b8d0-6c5ad0331c6e",
   "metadata": {},
   "source": [
    "*KESIMPULAN*"
   ]
  },
  {
   "cell_type": "markdown",
   "id": "344e6112-5959-4782-8389-0a06f7769032",
   "metadata": {
    "tags": []
   },
   "source": [
    "\n",
    "### **Kesimpulan Proses Pengolahan Data pada Dataset Pemasaran Bank**\n",
    "\n",
    "1. **Pembersihan Data:**\n",
    "   - Dataset yang digunakan mengandung variabel yang relevan untuk memprediksi keberhasilan pemasaran, seperti age (usia), duration (durasi kontak), dan campaign (jumlah kontak dalam kampanye pemasaran).\n",
    "   - Sebelum pemodelan, data dibersihkan untuk menangani nilai yang hilang atau duplikat dan memastikan semua fitur berada dalam format yang sesuai untuk analisis lebih lanjut.\n",
    "\n",
    "2. **Pemodelan dengan Ridge Regression:**\n",
    "   - **Ridge Regression** dipilih untuk mengatasi multikolinearitas yang mungkin ada antara variabel seperti age, duration, dan campaign. Dengan menambahkan regularisasi melalui parameter alpha, model ini mampu menghindari masalah *overfitting* yang bisa terjadi jika koefisien model menjadi terlalu besar.\n",
    "   - **Koefisien model** menunjukkan seberapa besar pengaruh setiap fitur terhadap keputusan akhir model. Sebagai contoh:\n",
    "     - Durasi interaksi (duration) kemungkinan memiliki pengaruh yang lebih besar terhadap keputusan apakah pelanggan akan merespons kampanye dibandingkan dengan usia atau jumlah kontak.\n",
    "   \n",
    "3. **Evaluasi Model:**\n",
    "   - **Mean Squared Error (MSE):** Mengukur kesalahan prediksi model. MSE yang rendah menunjukkan bahwa model dapat memprediksi dengan cukup akurat.\n",
    "   - **R-squared (R²):** Mengukur seberapa baik model menjelaskan variabilitas dalam data. Nilai R² yang tinggi menunjukkan bahwa model mampu menjelaskan sebagian besar variabilitas dalam hasil pemasaran berdasarkan fitur yang diberikan.\n",
    "   - Berdasarkan hasil evaluasi, jika nilai R² cukup tinggi dan MSE rendah, ini menunjukkan bahwa Ridge Regression memberikan prediksi yang baik mengenai apakah pelanggan akan merespons atau tidak terhadap kampanye pemasaran bank, berdasarkan variabel yang digunakan.\n",
    "\n",
    "4. **Visualisasi Hasil:**\n",
    "   - Grafik scatter antara nilai sebenarnya (y_test) dan nilai prediksi (y_pred) memberikan gambaran yang jelas tentang kinerja model. Jika model bekerja dengan baik, titik-titik pada grafik ini harus mendekati garis diagonal, yang menunjukkan bahwa prediksi mendekati nilai sebenarnya.\n",
    "   - **Distribusi error** dapat terlihat dalam grafik, dan jika ada pola tertentu (misalnya, penyebaran kesalahan yang besar pada rentang nilai tertentu), ini mungkin menunjukkan area di mana model perlu diperbaiki, seperti pengaturan lebih lanjut pada fitur atau regularisasi.\n",
    "\n",
    "\n",
    "Secara keseluruhan, **Ridge Regression** adalah model yang efektif dalam konteks pemasaran bank untuk memprediksi kemungkinan respons pelanggan terhadap kampanye pemasaran. Jika model memberikan nilai R² yang baik dan MSE yang rendah, maka model ini dapat digunakan sebagai alat prediksi untuk meningkatkan pengambilan keputusan dalam kampanye pemasaran."
   ]
  },
  {
   "cell_type": "code",
   "execution_count": null,
   "id": "7feb684c-850c-4ff3-a71d-fe1c0a95f2ec",
   "metadata": {},
   "outputs": [],
   "source": []
  }
 ],
 "metadata": {
  "kernelspec": {
   "display_name": "Python 3 (ipykernel)",
   "language": "python",
   "name": "python3"
  },
  "language_info": {
   "codemirror_mode": {
    "name": "ipython",
    "version": 3
   },
   "file_extension": ".py",
   "mimetype": "text/x-python",
   "name": "python",
   "nbconvert_exporter": "python",
   "pygments_lexer": "ipython3",
   "version": "3.11.4"
  }
 },
 "nbformat": 4,
 "nbformat_minor": 5
}
